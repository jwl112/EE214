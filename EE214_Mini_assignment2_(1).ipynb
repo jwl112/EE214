{
  "nbformat": 4,
  "nbformat_minor": 0,
  "metadata": {
    "colab": {
      "provenance": []
    },
    "kernelspec": {
      "name": "python3",
      "display_name": "Python 3"
    },
    "language_info": {
      "name": "python"
    }
  },
  "cells": [
    {
      "cell_type": "markdown",
      "source": [
        "# **EE214 Machine Learning Basics and Practices**\n",
        "\n",
        "- You should fill in all the blanks and follow all the TODO list in this file. \n",
        "\n",
        "- You don't need to annotate on your code. But please write descriptions of your source code and answers to the given questions in the report. There is no limit to the format of your report.\n",
        "\n",
        "- You should **submit both the ipynb file and the report**. **Otherwise, you can't get a full score.**\n",
        "\n",
        "- The name of zip file should be \"**studentID_Name**.zip\". You can submit it through KLMS. **Submission due is 5/15(Mon) 11:59 p.m.**\n",
        "\n",
        "- Our late submission penalty is as follows:\n",
        "\n",
        "    **0 hours ~ 3 hours: 90%**\n",
        "\n",
        "    **3 hours ~ 6 hours: 80%**\n",
        "\n",
        "    **6 hours ~ 12 hours: 70%**\n",
        "\n",
        "    **12 hours ~ 24 hours: 50%**\n",
        "\n",
        "    **24 hours ~ : 0%**\n",
        "\n",
        "- If you have further questions, please let TAs know\n",
        "\n",
        "\n"
      ],
      "metadata": {
        "id": "79rOzW7MqcNQ"
      }
    },
    {
      "cell_type": "markdown",
      "source": [
        "## **Mini-Assignment 2**\n"
      ],
      "metadata": {
        "id": "8NAC2jfRBclv"
      }
    },
    {
      "cell_type": "markdown",
      "source": [
        "\n",
        "## **Part 1.** Implement K-means & DBSCAN algorithm using Numpy"
      ],
      "metadata": {
        "id": "kvftocKMBSTT"
      }
    },
    {
      "cell_type": "markdown",
      "source": [
        "## **Part 1-1.** Implement K-means clustering algorithm\n"
      ],
      "metadata": {
        "id": "xUnjDFinArls"
      }
    },
    {
      "cell_type": "code",
      "source": [
        "import matplotlib.pyplot as plt\n",
        "import numpy as np\n",
        "import time"
      ],
      "metadata": {
        "id": "da1F-7DTAuhW"
      },
      "execution_count": 2,
      "outputs": []
    },
    {
      "cell_type": "markdown",
      "source": [
        "## **TODO** : Fill in the blanks of the codes and write your own description of the source code in your report."
      ],
      "metadata": {
        "id": "kCPsDllKAyl7"
      }
    },
    {
      "cell_type": "code",
      "source": [
        "class KMeans:\n",
        "    \n",
        "    def __init__(self, n_clusters=1, random_state=500):\n",
        "        '''\n",
        "        parameter:\n",
        "        n_clusters: desired number of clusters\n",
        "        random_state: random state for initializing the centroids\n",
        "        '''\n",
        "        assert n_clusters >= 1\n",
        "        self.n_clusters = n_clusters\n",
        "        self.random_state = random_state\n",
        "        self.cluster_centers_ = None    # cluster centers (=centriods) will be initialized in 'fit' method\n",
        "    \n",
        "    \n",
        "    def fit(self, X):\n",
        "        '''\n",
        "        parameter:\n",
        "        X: data\n",
        "        shape of X: (number of sample, feature dimensions)\n",
        "        \n",
        "        Compute the centroids that can achieve the minimum variance within clusters given a (training) data X.\n",
        "        Clustering is performed iteratively until the centroids are not changed, i.e., until the optimum is reached.\n",
        "        The centroids obtained here; \"self.cluster_centers_\" will be used in \"predict\" method.\n",
        "        \n",
        "        It returns a array of cluster labels for data X.\n",
        "        For each sample in X, the cluster label means the index of the nearest center among centers in self.cluster_centers_. Thus, the cluster labels range from 0 to (n_clusters-1).\n",
        "        \n",
        "        Return:\n",
        "        cluster_labels: numpy array of cluster labels for all data samples in X\n",
        "        '''\n",
        "        \n",
        "        # Here, the centroids is initialized with arbitrary samples of X.\n",
        "        np.random.seed(self.random_state)  # the choice of these random samples is governed by the \"self.random_state\".\n",
        "        initial_cluster_centers_idx = np.random.choice(len(X), self.n_clusters, replace=False) # choose the 'n_clusters' number of samples in X to take them as initial centriods\n",
        "        self.cluster_centers_ = X[initial_cluster_centers_idx]  # initial centroids\n",
        "\n",
        "        # fill in the blank --------------------------------------\n",
        "        while (1):\n",
        "          check = 0\n",
        "          distances = np.linalg.norm(np.expand_dims(X, 2) - np.expand_dims(self.cluster_centers_.T, 0), axis=1)\n",
        "          new_labels = distances.argmin(axis=1)\n",
        "          count = np.zeros(self.n_clusters)\n",
        "          x_sum = np.zeros(self.n_clusters) \n",
        "          y_sum = np.zeros(self.n_clusters)\n",
        "          for i in range(len(X)):\n",
        "            a = new_labels[i]\n",
        "            x_sum[a] += X[i, 0] # x coordinate \n",
        "            y_sum[a] += X[i, 1] # y coordinate \n",
        "            count[a] += 1\n",
        "          new_centers = np.zeros((self.n_clusters, 2))\n",
        "          for i in range(self.n_clusters): #4\n",
        "            if count[i] > 0:\n",
        "              new_centers[i, 0] = x_sum[i] / count[i]\n",
        "              new_centers[i, 1] = y_sum[i] / count[i]\n",
        "          for i in range(self.n_clusters): #4\n",
        "            if not (((new_centers[i, 0]) == (self.cluster_centers_[i, 0])) & ((new_centers[i, 1]) == (self.cluster_centers_[i, 1]))):\n",
        "              check = 1\n",
        "          if check == 0:\n",
        "            break\n",
        "          self.cluster_centers_ = new_centers\n",
        "        cluster_labels = new_labels\n",
        "\n",
        "        # --------------------------------------------------------    \n",
        "        \n",
        "            \n",
        "        return cluster_labels\n",
        "\n",
        "   \n",
        "    \n",
        "    def predict(self, X):\n",
        "        '''\n",
        "        parameter:\n",
        "        X: data\n",
        "        shape of X: (number of sample, feature dimensions)\n",
        "        \n",
        "        For each sample in the data X (might be testset), predict the cluster using the centroids obtained from \"fit\" method.\n",
        "        It returns an array of cluster labels for data X.\n",
        "        \n",
        "        Return:\n",
        "        cluster_labels: numpy array of cluster labels for all data samples in X (testset)\n",
        "        '''\n",
        "        assert self.cluster_centers_ is not None\n",
        "        \n",
        "        # fill in the blank --------------------------------------\n",
        "        distances = np.linalg.norm(np.expand_dims(X, 2) - np.expand_dims(self.cluster_centers_.T, 0), axis=1)\n",
        "        cluster_labels = distances.argmin(axis=1)        \n",
        "        # --------------------------------------------------------    \n",
        "        \n",
        "        return cluster_labels"
      ],
      "metadata": {
        "id": "N8yyPJ15A1yu"
      },
      "execution_count": 3,
      "outputs": []
    },
    {
      "cell_type": "markdown",
      "source": [
        "## **TODO** : Run the test code for blobs dataset below and attach the results in the report.\n",
        "\n"
      ],
      "metadata": {
        "id": "Wo4TQPeGA5A1"
      }
    },
    {
      "cell_type": "markdown",
      "source": [
        "**Do not edit the testcode below**"
      ],
      "metadata": {
        "id": "2nGdUz91A7TB"
      }
    },
    {
      "cell_type": "code",
      "source": [
        "# Testcode\n",
        "\n",
        "from sklearn.datasets import make_blobs\n",
        "\n",
        "plt.figure(figsize=(10, 4))\n",
        "\n",
        "n_samples = 1500\n",
        "X, y = make_blobs(n_samples=n_samples, random_state=700)\n",
        "\n",
        "# Incorrect number of clusters\n",
        "y_pred = KMeans(n_clusters=4).fit(X)\n",
        "\n",
        "plt.subplot(121)\n",
        "plt.scatter(X[:, 0], X[:, 1], c=y_pred)\n",
        "plt.title(\"Incorrect Number of Blobs\")\n",
        "\n",
        "# Unevenly sized blobs\n",
        "X_filtered = np.vstack((X[y == 0][:500], X[y == 1][:100], X[y == 2][:10]))\n",
        "y_pred = KMeans(n_clusters=3).fit(X_filtered)\n",
        "\n",
        "plt.subplot(122)\n",
        "plt.scatter(X_filtered[:, 0], X_filtered[:, 1], c=y_pred)\n",
        "plt.title(\"Unevenly Sized Blobs\")\n",
        "\n",
        "plt.show()"
      ],
      "metadata": {
        "id": "21gv3exyA_C3",
        "colab": {
          "base_uri": "https://localhost:8080/",
          "height": 391
        },
        "outputId": "6e17149c-0880-40b4-d82b-6acb3c0242e7"
      },
      "execution_count": 10,
      "outputs": [
        {
          "output_type": "display_data",
          "data": {
            "text/plain": [
              "<Figure size 1000x400 with 2 Axes>"
            ],
            "image/png": "[encoded data removed]"
          },
          "metadata": {}
        }
      ]
    },
    {
      "cell_type": "markdown",
      "source": [
        "## **TODO** : Try to run K-means algorithm with various random_state values in initializing centroids and attach the results in the report. Describe your observations as well as the reason why this happens."
      ],
      "metadata": {
        "id": "0LmZqQ0SBAzx"
      }
    },
    {
      "cell_type": "markdown",
      "source": [
        "## **Part 1-2.** Implement DBSCAN algorithm\n"
      ],
      "metadata": {
        "id": "pOmyotYTAnMt"
      }
    },
    {
      "cell_type": "code",
      "execution_count": 1,
      "metadata": {
        "id": "VOIg3lCJqUHe"
      },
      "outputs": [],
      "source": [
        "import matplotlib.pyplot as plt\n",
        "import numpy as np\n",
        "import sklearn\n",
        "from sklearn import datasets\n",
        "from sklearn.preprocessing import StandardScaler\n",
        "import numpy as np\n",
        "from sklearn import metrics\n",
        "from sklearn.datasets import make_blobs\n",
        "from sklearn.metrics.pairwise import pairwise_distances\n"
      ]
    },
    {
      "cell_type": "markdown",
      "source": [
        "## **TODO** : Fill in the blanks of the codes and write your own description of the source code in your report.\n",
        "\n"
      ],
      "metadata": {
        "id": "A5Y8DHePqf50"
      }
    },
    {
      "cell_type": "code",
      "source": [
        "from ast import Is\n",
        "class DBSCAN:\n",
        "\n",
        "    def __init__(self, eps, min_samples):\n",
        "        self.eps = eps\n",
        "        self.min_samples = min_samples\n",
        "\n",
        "    def fit_predict(self, X):\n",
        "        '''\n",
        "        parameter:\n",
        "        X: data\n",
        "        shape of X: (number of sample, feature dimensions)\n",
        "\n",
        "        It returns a array of cluster labels for each sample point. \n",
        "        Here, the cluster labels are numbered starting from 1. \n",
        "        Moreover, \"-1\" means noise.\n",
        "        '''\n",
        "        self.X = X\n",
        "        self.cluster_labels = np.zeros((len(X)))              # Initialize all the cluster labels as 0\n",
        "        self.current_label = 0\n",
        "        self.labeled_indices = set()                          # for tracking all visited(already labeled) points\n",
        "        self.core_sample_indices_ = []                        # for tracking all core samples (for future visualization)\n",
        "\n",
        "        # declare something if you think you need ------------\n",
        "        self.dist_matrix = pairwise_distances(X)\n",
        "        # ----------------------------------------------------\n",
        "\n",
        "        while np.any(self.cluster_labels == 0):               # repeat until there's no point that has not been visited any more\n",
        "            p_idx = self.pick_arbitrary_point()               # pick arbitrary point among points that are not visited so far (fill the blanks for \"pick_arbitrary_point\" below)\n",
        "            if self.is_core_sample(p_idx):                    # check if it is core sample (fill the blanks for \"is_core_sample\" below)\n",
        "                self.current_label += 1                       # define new cluster label for current visiting\n",
        "                self.visit_all_successive_neighbors(p_idx)    # visit all the neighbors and label them in succession (fill the blanks for \"visit_all_successive_neighbors\" below) \n",
        "            else:\n",
        "                self.cluster_labels[p_idx] = -1               # label it as noise if it is not a core sample in the first place\n",
        "\n",
        "        return self.cluster_labels\n",
        "\n",
        "    def pick_arbitrary_point(self):\n",
        "        '''\n",
        "        Pick arbitrary point among points that are not visited so far (for next successive visiting).\n",
        "        It returns an \"index\" of point(\"p_idx\"), not a data point itself.\n",
        "        '''\n",
        "        # fill in the blank --------------------------------------\n",
        "        unvisited_indices = np.where(self.cluster_labels==0)[0]\n",
        "        p_idx = np.random.choice(unvisited_indices)\n",
        "        # --------------------------------------------------------\n",
        "        assert self.cluster_labels[p_idx] == 0                # for sanity check\n",
        "        return p_idx\n",
        "\n",
        "    def is_core_sample(self, p_idx):\n",
        "        '''\n",
        "        parameter:\n",
        "        p_idx: index of point\n",
        "\n",
        "        Check whether the \"p_idx\" is a core sample or not.\n",
        "        If it is, return True. Otherwise, return False.\n",
        "        You can use \"get_neighbors\" method, which is defined below.\n",
        "        You can define a core sample that has greater than or equal to min_samples points in its neighbor, where the point itself is also included in its neighbor.\n",
        "        '''\n",
        "        # fill in the blank --------------------------------------\n",
        "        if len(self.get_neighbors(p_idx)) >= self.min_samples:\n",
        "          self.core_sample_indices_.append(p_idx)\n",
        "          return True\n",
        "        return False\n",
        "        # --------------------------------------------------------\n",
        "\n",
        "    def visit_all_successive_neighbors(self, p_idx):\n",
        "        '''\n",
        "        parameter:\n",
        "        p_idx: index of point\n",
        "\n",
        "        Visit all the neighbors of \"p_idx\" as well as the neighbors of all the visited points if they are the core points themselves.\n",
        "        Assign current cluster label everytime you visited. But you don't need to relabel them if they are already allocated to a specific cluster.\n",
        "        It returns nothing but modifies \"self.cluster_labels\" in-place when labeling.\n",
        "        '''\n",
        "        all_neighbors_indices = {p_idx}\n",
        "\n",
        "        while all_neighbors_indices:\n",
        "        # fill in the blank --------------------------------------\n",
        "          idx =  all_neighbors_indices.pop()\n",
        "          if idx not in self.labeled_indices: \n",
        "            self.cluster_labels[idx] = self.current_label\n",
        "            self.labeled_indices.add(idx)\n",
        "            if self.is_core_sample(idx):\n",
        "              all_neighbors_indices |= self.get_neighbors(idx)\n",
        "              \n",
        "\n",
        "    def get_neighbors(self, p_idx):\n",
        "        '''\n",
        "        parameter:\n",
        "        p_idx: index of point\n",
        "\n",
        "        It returns a \"set of indices\" of neighbors of \"p_idx\" point.\n",
        "        l2 norm will be considered for computing distances.\n",
        "        '''\n",
        "        dist = pairwise_distances(self.X, metric='euclidean')\n",
        "        neighbors = set(np.where(dist[p_idx] <= self.eps)[0])\n",
        "        neighbors.discard(p_idx)\n",
        "        return neighbors\n",
        "        # --------------------------------------------------------"
      ],
      "metadata": {
        "id": "ZK2sG1jvqiN8"
      },
      "execution_count": 2,
      "outputs": []
    },
    {
      "cell_type": "code",
      "source": [],
      "metadata": {
        "id": "KM4zvI78vDtc"
      },
      "execution_count": null,
      "outputs": []
    },
    {
      "cell_type": "markdown",
      "source": [
        "## **TODO** : Try three different (eps, MinPts) combinations(depeding on your choice) for each dataset and attach the results in the report. Describe how the results change with varying eps and MinPts.\n",
        "\n",
        "\n",
        "**Do not edit the testcode below except for modifying the hyperparameters eps and MinPts**"
      ],
      "metadata": {
        "id": "G4iE3Pgtqj9c"
      }
    },
    {
      "cell_type": "code",
      "source": [
        "# Testcode\n",
        "\n",
        "noisy_moons = datasets.make_moons(n_samples=1500, noise=.05, random_state=0)\n",
        "X, labels_true = noisy_moons\n",
        "\n",
        "X = StandardScaler().fit_transform(X)\n",
        "\n",
        "# Compute DBSCAN\n",
        "# -----------------------------------------\n",
        "db = DBSCAN(eps=2, min_samples=5)\n",
        "# -----------------------------------------\n",
        "db.fit_predict(X)\n",
        "core_samples_mask = np.zeros_like(db.cluster_labels, dtype=bool)\n",
        "core_samples_mask[db.core_sample_indices_] = True\n",
        "labels = db.cluster_labels\n",
        "\n",
        "# Number of clusters in labels, ignoring noise if present.\n",
        "n_clusters_ = len(set(labels)) - (1 if -1 in labels else 0)\n",
        "n_noise_ = list(labels).count(-1)\n",
        "\n",
        "print('Estimated number of clusters: %d' % n_clusters_)\n",
        "print('Estimated number of noise points: %d' % n_noise_)\n",
        "\n",
        "# Plot result\n",
        "# Black removed and is used for noise instead.\n",
        "marksize_clustered = 8\n",
        "marksize_noise = 4\n",
        "plt.figure(figsize=(5.5, 4))\n",
        "unique_labels = set(labels)\n",
        "colors = [plt.cm.Spectral(each)\n",
        "          for each in np.linspace(0, 1, len(unique_labels))]\n",
        "for k, col in zip(unique_labels, colors):\n",
        "    if k == -1:\n",
        "        # Black used for noise.\n",
        "        col = [0, 0, 0, 1]\n",
        "        marksize = marksize_noise\n",
        "    else:\n",
        "        marksize = marksize_clustered\n",
        "\n",
        "    class_member_mask = (labels == k)\n",
        "\n",
        "    xy = X[class_member_mask & core_samples_mask]\n",
        "    plt.plot(xy[:, 0], xy[:, 1], 'o', markerfacecolor=tuple(col),\n",
        "             markeredgecolor='k', markersize=marksize_clustered)\n",
        "\n",
        "    xy = X[class_member_mask & ~core_samples_mask]\n",
        "    plt.plot(xy[:, 0], xy[:, 1], 'o', markerfacecolor=tuple(col),\n",
        "             markeredgecolor='k', markersize=marksize)\n",
        "\n",
        "plt.grid(color = 'gray', linestyle = ':', linewidth = 0.5)\n",
        "plt.title('Estimated number of clusters: %d' % n_clusters_)\n",
        "plt.show()"
      ],
      "metadata": {
        "id": "GArBn6Viqlsw",
        "colab": {
          "base_uri": "https://localhost:8080/",
          "height": 428
        },
        "outputId": "d61bbd3b-3c47-49ca-87b7-0c54ad27744f"
      },
      "execution_count": null,
      "outputs": [
        {
          "output_type": "stream",
          "name": "stdout",
          "text": [
            "Estimated number of clusters: 1\n",
            "Estimated number of noise points: 0\n"
          ]
        },
        {
          "output_type": "display_data",
          "data": {
            "text/plain": [
              "<Figure size 550x400 with 1 Axes>"
            ],
            "image/png": "[encoded data removed]"
          },
          "metadata": {}
        }
      ]
    },
    {
      "cell_type": "code",
      "source": [
        "# Testcode\n",
        "\n",
        "# Generate sample data\n",
        "centers = [[1, 1], [-1, -1], [1, -1], [-1, 1]]\n",
        "X, labels_true = make_blobs(n_samples=500, centers=centers, cluster_std=0.4,\n",
        "                            random_state=0)\n",
        "\n",
        "X = StandardScaler().fit_transform(X)\n",
        "\n",
        "# Compute DBSCAN\n",
        "# -----------------------------------------\n",
        "db = DBSCAN(eps=0.2, min_samples=5)\n",
        "# -----------------------------------------\n",
        "db.fit_predict(X)\n",
        "core_samples_mask = np.zeros_like(db.cluster_labels, dtype=bool)\n",
        "core_samples_mask[db.core_sample_indices_] = True\n",
        "labels = db.cluster_labels\n",
        "\n",
        "# Number of clusters in labels, ignoring noise if present.\n",
        "n_clusters_ = len(set(labels)) - (1 if -1 in labels else 0)\n",
        "n_noise_ = list(labels).count(-1)\n",
        "\n",
        "print('Estimated number of clusters: %d' % n_clusters_)\n",
        "print('Estimated number of noise points: %d' % n_noise_)\n",
        "\n",
        "# Plot result\n",
        "# Black removed and is used for noise instead.\n",
        "marksize_clustered = 8\n",
        "marksize_noise = 4\n",
        "plt.figure(figsize=(5.5, 4))\n",
        "unique_labels = set(labels)\n",
        "colors = [plt.cm.Spectral(each)\n",
        "          for each in np.linspace(0, 1, len(unique_labels))]\n",
        "for k, col in zip(unique_labels, colors):\n",
        "    if k == -1:\n",
        "        # Black used for noise.\n",
        "        col = [0, 0, 0, 1]\n",
        "        marksize = marksize_noise\n",
        "    else:\n",
        "        marksize = marksize_clustered\n",
        "\n",
        "    class_member_mask = (labels == k)\n",
        "\n",
        "    xy = X[class_member_mask & core_samples_mask]\n",
        "    plt.plot(xy[:, 0], xy[:, 1], 'o', markerfacecolor=tuple(col),\n",
        "             markeredgecolor='k', markersize=marksize_clustered)\n",
        "\n",
        "    xy = X[class_member_mask & ~core_samples_mask]\n",
        "    plt.plot(xy[:, 0], xy[:, 1], 'o', markerfacecolor=tuple(col),\n",
        "             markeredgecolor='k', markersize=marksize)\n",
        "\n",
        "plt.grid(color = 'gray', linestyle = ':', linewidth = 0.5)\n",
        "plt.title('Estimated number of clusters: %d' % n_clusters_)\n",
        "plt.show()"
      ],
      "metadata": {
        "id": "XxelQlUKqnMB",
        "colab": {
          "base_uri": "https://localhost:8080/",
          "height": 428
        },
        "outputId": "3ed35d52-25fa-4725-b3db-1085ac6293f5"
      },
      "execution_count": null,
      "outputs": [
        {
          "output_type": "stream",
          "name": "stdout",
          "text": [
            "Estimated number of clusters: 6\n",
            "Estimated number of noise points: 62\n"
          ]
        },
        {
          "output_type": "display_data",
          "data": {
            "text/plain": [
              "<Figure size 550x400 with 1 Axes>"
            ],
            "image/png": "[encoded data removed]"
          },
          "metadata": {}
        }
      ]
    },
    {
      "cell_type": "markdown",
      "source": [
        "## **TODO** : Answer the following questions (cleary write down your own explanation on your answer to get a full credit)\n",
        "\n",
        "### **Q1.** What is the main difference between noise and border point?\n",
        "\n",
        "\n",
        "### **Q2.** Do you think that the clustering results are deterministic even if the visiting order is changed? If you do not think so, find the values of eps and MinPts that produce different clustering results depending on the visiting order for the given dataset below, and describe why the results are different."
      ],
      "metadata": {
        "id": "eu8HO9ljqpVT"
      }
    },
    {
      "cell_type": "code",
      "source": [
        "# Generate sample data\n",
        "X = np.array([[-1, -1], [0, 0], [0, -1], [-1, 0.5], [1, 2], [0.5, 1], [1.5, 1.5], [1.5, -0.5], [2, 1], [2, 0.5]])\n",
        "\n",
        "plt.figure(figsize=(5.5, 4))\n",
        "plt.grid(color = 'gray', linestyle = ':', linewidth = 0.5)\n",
        "plt.scatter(X[:, 0], X[:, 1], color='k')\n",
        "plt.show()"
      ],
      "metadata": {
        "id": "sNLxY6H-qqkS",
        "colab": {
          "base_uri": "https://localhost:8080/",
          "height": 368
        },
        "outputId": "f30d2cf9-b714-49b8-bd52-d235a0b13def"
      },
      "execution_count": null,
      "outputs": [
        {
          "output_type": "display_data",
          "data": {
            "text/plain": [
              "<Figure size 550x400 with 1 Axes>"
            ],
            "image/png": "[encoded data removed]"
          },
          "metadata": {}
        }
      ]
    },
    {
      "cell_type": "markdown",
      "source": [
        "**You can use the testcode below for Q2**"
      ],
      "metadata": {
        "id": "HG4MD-Cbqspd"
      }
    },
    {
      "cell_type": "code",
      "source": [
        "# Testcode\n",
        "\n",
        "# Compute DBSCAN\n",
        "# -----------------------------------------\n",
        "db = DBSCAN(eps=1.5, min_samples=3)\n",
        "# -----------------------------------------\n",
        "db.fit_predict(X)\n",
        "core_samples_mask = np.zeros_like(db.cluster_labels, dtype=bool)\n",
        "core_samples_mask[db.core_sample_indices_] = True\n",
        "labels = db.cluster_labels\n",
        "\n",
        "# Number of clusters in labels, ignoring noise if present.\n",
        "n_clusters_ = len(set(labels)) - (1 if -1 in labels else 0)\n",
        "n_noise_ = list(labels).count(-1)\n",
        "\n",
        "print('Estimated number of clusters: %d' % n_clusters_)\n",
        "print('Estimated number of noise points: %d' % n_noise_)\n",
        "\n",
        "# Plot result\n",
        "# Black removed and is used for noise instead.\n",
        "marksize_clustered = 8\n",
        "marksize_noise = 6\n",
        "plt.figure(figsize=(5.5, 4))\n",
        "unique_labels = set(labels)\n",
        "colors = [plt.cm.Spectral(each)\n",
        "          for each in np.linspace(0, 1, len(unique_labels))]\n",
        "for k, col in zip(unique_labels, colors):\n",
        "    if k == -1:\n",
        "        # Black used for noise.\n",
        "        col = [0, 0, 0, 1]\n",
        "        marksize = marksize_noise\n",
        "    else:\n",
        "        marksize = marksize_clustered\n",
        "\n",
        "    class_member_mask = (labels == k)\n",
        "\n",
        "    xy = X[class_member_mask & core_samples_mask]\n",
        "    plt.plot(xy[:, 0], xy[:, 1], 'o', markerfacecolor=tuple(col),\n",
        "             markeredgecolor='k', markersize=marksize_clustered)\n",
        "\n",
        "    xy = X[class_member_mask & ~core_samples_mask]\n",
        "    plt.plot(xy[:, 0], xy[:, 1], 'o', markerfacecolor=tuple(col),\n",
        "             markeredgecolor='k', markersize=marksize)\n",
        "\n",
        "plt.grid(color = 'gray', linestyle = ':', linewidth = 0.5)\n",
        "plt.title('Estimated number of clusters: %d' % n_clusters_)\n",
        "plt.show()"
      ],
      "metadata": {
        "id": "M4f72-JqquIa",
        "colab": {
          "base_uri": "https://localhost:8080/",
          "height": 428
        },
        "outputId": "60562bf2-6de5-46c6-c0da-c7ee9eb3ee88"
      },
      "execution_count": null,
      "outputs": [
        {
          "output_type": "stream",
          "name": "stdout",
          "text": [
            "Estimated number of clusters: 1\n",
            "Estimated number of noise points: 0\n"
          ]
        },
        {
          "output_type": "display_data",
          "data": {
            "text/plain": [
              "<Figure size 550x400 with 1 Axes>"
            ],
            "image/png": "[encoded data removed]"
          },
          "metadata": {}
        }
      ]
    },
    {
      "cell_type": "markdown",
      "source": [
        "### **Q3.** Let us slightly modify the algorithm (in `fit_predict` method) as follows:\n",
        "\n",
        "### From\n",
        "```python\n",
        "        while np.any(self.cluster_labels == 0):               # repeat until there's no point that has not been visited any more\n",
        "            p_idx = self.pick_arbitrary_point()               # pick arbitrary point among not-visited points\n",
        "            if self.is_core_sample(p_idx):                    # check if it is core sample\n",
        "                self.current_label += 1                       # define new cluster label for current visiting\n",
        "                self.visit_all_successive_neighbors(p_idx)    # visit all the neighbors and label them in succession\n",
        "            else:\n",
        "                self.cluster_labels[p_idx] = -1               # label it as noise if it is not a core sample in the first place\n",
        "\n",
        "        return self.cluster_labels\n",
        "```\n",
        "### to \n",
        "```python\n",
        "        while np.any(self.cluster_labels == 0):               # repeat until there's no point that has not been visited any more\n",
        "            p_idx = self.pick_arbitrary_point()               # pick arbitrary point among not-visited points\n",
        "            if self.is_core_sample(p_idx):                    # check if it is core sample\n",
        "                self.current_label += 1                       # define new cluster label for current visiting\n",
        "                self.visit_all_successive_neighbors(p_idx)    # visit all the neighbors and label them in succession\n",
        "            else:\n",
        "                self.cluster_labels[p_idx] = -1               # label it as noise if it is not a core sample in the first place\n",
        "                self.labeled_indices.add(p_idx)               # mark it as labeled point (Hence, you don't relabel this point again later)\n",
        "\n",
        "        return self.cluster_labels\n",
        "```\n",
        "### Then, what is the possible range of number of noise samples after the clustering is completed? **(write down in general form and express it using the number of differnt types of points(e.g. core, noise) which are assumed to be obtained in orignal DBSCAN.  The modified version runs with the same and fixed eps, MinPts that the original one used)**"
      ],
      "metadata": {
        "id": "V7Q392cfrE2X"
      }
    },
    {
      "cell_type": "markdown",
      "source": [
        "## **Part 2.** Numpy Implementation of **autograd**, **torch-like Tensor** and **Module**\n",
        "\n",
        "The objective of this part is to understand how the mechanism of autograd in APIs (pytorch, tensorflow, etc) actually work. How to obtain the gradients of all of the parameters computed through such exceedingly complicated computations? Some people use this beautifully well-made APIs as a 'blackbox' when studying, implementing or even doing research on something. However, it is very important to understant what's going on (even if it's not that deep) inside this blackbox when you run some simulations, make use of third party's source code and even understand it. I hope this assignment will be of some help to your future study. "
      ],
      "metadata": {
        "id": "H0_G2Yj7rNcn"
      }
    },
    {
      "cell_type": "code",
      "source": [
        "import numpy as np\n",
        "import os \n",
        "from urllib import request\n",
        "import gzip\n",
        "from tqdm import tqdm\n",
        "import matplotlib.pyplot as plt\n",
        "import math\n",
        "import random"
      ],
      "metadata": {
        "id": "qEJBbpMBrQJ8"
      },
      "execution_count": 4,
      "outputs": []
    },
    {
      "cell_type": "markdown",
      "source": [
        "#### **Implementing 'torch-like Tensor' by subclassing Numpy array**\n",
        "\n",
        "The following code is for impelementing torch-like tensor by subclassing the numpy ndarray to add some desired attributes(e.g. grad, backward_fn) and  mimic the pytorch's autograd mechanism. **The attribute 'grad' is for keeping and accumulating the gradients and 'backward_fn' is for tracking all the computations with corresponding backward function.** All the backward functions will be called consecutively all at once when `loss.backward()` is called"
      ],
      "metadata": {
        "id": "zMI23WFgrcCg"
      }
    },
    {
      "cell_type": "code",
      "source": [
        "class Tensor(np.ndarray):\n",
        "\n",
        "    def __new__(cls, input_array, requires_grad=False):\n",
        "        obj = np.asarray(input_array).view(cls)\n",
        "        obj.grad = None\n",
        "        obj.requires_grad = requires_grad\n",
        "        lambda_fn = lambda x: 0 if x is None else x\n",
        "        obj.backward_fn = lambda leaf_grad: setattr(obj, 'grad', lambda_fn(obj.grad) + leaf_grad) if requires_grad else lambda *args: None\n",
        "        return obj\n",
        "\n",
        "    def __array_finalize__(self, obj):\n",
        "        if obj is None: return\n",
        "        self.grad = getattr(obj, 'grad', None)\n",
        "        self.requires_grad = getattr(obj, 'requires_grad', None)\n",
        "        self.backward_fn = getattr(obj, 'backward_fn', None)\n",
        "\n",
        "    def backward(self, *args):\n",
        "        self.backward_fn(*args)"
      ],
      "metadata": {
        "id": "YounI-IPs6Hp"
      },
      "execution_count": 5,
      "outputs": []
    },
    {
      "cell_type": "markdown",
      "source": [
        "**Usage**\n",
        "\n",
        "You can make **Tensor** by wrapping ```ndarray``` with the ```Tensor()``` class"
      ],
      "metadata": {
        "id": "Wm8i84DRs8ih"
      }
    },
    {
      "cell_type": "code",
      "source": [
        "array = np.random.randn(2, 3)\n",
        "print(array.__repr__(), end='\\n\\n')\n",
        "\n",
        "mytensor = Tensor(array) # wrap it with Tensor class\n",
        "print(mytensor.__repr__())"
      ],
      "metadata": {
        "id": "9kS1wCC4s9-J",
        "colab": {
          "base_uri": "https://localhost:8080/"
        },
        "outputId": "dc49903b-1e7a-4d5b-9989-987019fe838e"
      },
      "execution_count": 6,
      "outputs": [
        {
          "output_type": "stream",
          "name": "stdout",
          "text": [
            "array([[-0.5683638 ,  0.11674041, -0.60595774],\n",
            "       [ 0.36844033,  0.7182642 , -0.59937401]])\n",
            "\n",
            "Tensor([[-0.5683638 ,  0.11674041, -0.60595774],\n",
            "        [ 0.36844033,  0.7182642 , -0.59937401]])\n"
          ]
        }
      ]
    },
    {
      "cell_type": "markdown",
      "source": [
        "**You can use all of the operations and methods which are supported by numpy package**"
      ],
      "metadata": {
        "id": "ET7eK8LQtAt3"
      }
    },
    {
      "cell_type": "code",
      "source": [
        "addition = mytensor + mytensor\n",
        "power_two = mytensor ** 2\n",
        "max_zero = np.maximum(mytensor, 0)\n",
        "\n",
        "addition, power_two, max_zero"
      ],
      "metadata": {
        "id": "PSnIhxWVtB_3",
        "colab": {
          "base_uri": "https://localhost:8080/"
        },
        "outputId": "a86e00bc-9982-4883-98dc-8aee407bb57f"
      },
      "execution_count": 7,
      "outputs": [
        {
          "output_type": "execute_result",
          "data": {
            "text/plain": [
              "(Tensor([[-1.1367276 ,  0.23348081, -1.21191547],\n",
              "         [ 0.73688066,  1.43652841, -1.19874802]]),\n",
              " Tensor([[0.32303741, 0.01362832, 0.36718478],\n",
              "         [0.13574828, 0.51590347, 0.3592492 ]]),\n",
              " Tensor([[0.        , 0.11674041, 0.        ],\n",
              "         [0.36844033, 0.7182642 , 0.        ]]))"
            ]
          },
          "metadata": {},
          "execution_count": 7
        }
      ]
    },
    {
      "cell_type": "markdown",
      "source": [
        "**The following descriptive figure is for understanding how autograd computes the gradient.**\n",
        "\n",
        "![image.png](data:image/png;base64,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)\n",
        "\n",
        "Backward function must be defined for all the forward operations like below. Pytorch package already implemented all the backward for all the basic vector/matrix operation. However, you can define the forward/backward \"in chunk\" containing multiple operations, not \"basic operation level\" (see below).\n",
        "\n",
        "The following example is for implementing three basic operation (scalar addition, multiplication, power of two) using \"closure\" technique (see https://www.learnpython.org/en/Closures for details). The forward/backward function will be implemented as the following form.\n",
        "\n",
        "```python\n",
        "def forward(input):\n",
        "    output = forward_operation(input)\n",
        "\n",
        "    def backward(grad_output -> if required):\n",
        "        grad_input = corresponding_backward_function(grad_output)\n",
        "        input.backward_fn(grad_input)\n",
        "\n",
        "    output.backward_fn = backward\n",
        "    return output\n",
        "```\n",
        "\n",
        " Corresponding backward function is attached to attribute \"backward_fn\" of the output Tensor when computing the forward operation. And then all these backward functions will be called consecutively. **(Note that if input is leaf variable, backward_fn just saves gradient in .grad attributes (or accumulate). See above code of Tensor class)**."
      ],
      "metadata": {
        "id": "-njMMqQNtGjj"
      }
    },
    {
      "cell_type": "markdown",
      "source": [
        "Now, let's consider the following example.\n",
        "\n",
        "$f(a, b) = (a^2 + 1)^2b^2$\n",
        "\n",
        "Taking derivative it with respect to $a$ and $b$ gives\n",
        "\n",
        "$\\dfrac{\\partial f}{\\partial a} = 2(a^2 + 1)(2a)b^2$\n",
        "and\n",
        "$\\dfrac{\\partial f}{\\partial b} = 2b(a^2 + 1)^2$\n",
        "\n",
        "Thus, we can implement forward/backward of $f$ (w.r.t $a$, $b$) as follows:"
      ],
      "metadata": {
        "id": "8cTdEWVWzjtS"
      }
    },
    {
      "cell_type": "code",
      "source": [
        "def f(a, b):\n",
        "    output = (a ** 2 + 1) ** 2 * b ** 2\n",
        "\n",
        "    def backward():\n",
        "        grad_input_a = 2 * (a ** 2 + 1) * (2 * a) * b ** 2\n",
        "        grad_input_b = 2 * b * (a ** 2 + 1) ** 2\n",
        "        a.backward_fn(grad_input_a)\n",
        "        b.backward_fn(grad_input_b)\n",
        "\n",
        "    output.backward_fn = backward\n",
        "    return output"
      ],
      "metadata": {
        "id": "xLjBIzbzzl3w"
      },
      "execution_count": 8,
      "outputs": []
    },
    {
      "cell_type": "markdown",
      "source": [
        "Define 'a' and 'b' with 'required_grad = True' for tracking the computational graph. In this case, the backward_fn is for keeping/accumulating the gradient."
      ],
      "metadata": {
        "id": "FCbhfwAmznyK"
      }
    },
    {
      "cell_type": "code",
      "source": [
        "a = Tensor(2, requires_grad=True)\n",
        "b = Tensor(3, requires_grad=True)\n",
        "\n",
        "out = f(a, b)\n",
        "out.backward()\n",
        "\n",
        "# check the output and gradient\n",
        "out, a.grad, b.grad"
      ],
      "metadata": {
        "id": "2NenBME5zo68",
        "colab": {
          "base_uri": "https://localhost:8080/"
        },
        "outputId": "ff63140f-2a9a-4938-fe02-429936836ecd"
      },
      "execution_count": 9,
      "outputs": [
        {
          "output_type": "execute_result",
          "data": {
            "text/plain": [
              "(Tensor(225), Tensor(360), Tensor(150))"
            ]
          },
          "metadata": {},
          "execution_count": 9
        }
      ]
    },
    {
      "cell_type": "markdown",
      "source": [
        "Althogh it is very simple yet effective way of obtaining the gradient, it may impossible to define all the corresponding backward function for each (possibly infinite number of) forward function. To get around this problem, we can decompse it into more basic level operations like addition, multiplication, etc. This is how autograd works. See below.\n",
        "\n",
        "### **Task 1. Implment backward of the following operations:**\n",
        "\n",
        "```add()``` : addition of two operands\n",
        "\n",
        "```mul()``` : multiplication of two operands\n",
        "\n",
        "Defualt argument in backward function is nothing but for the case of the last ```out.backward()``` call.\n",
        "\n",
        "## **TODO1** : Fill in the blanks of the codes for **Task 1** and write your own description of the source code in your report. \n",
        "\n",
        "## **TODO2** : Attach the results in your report."
      ],
      "metadata": {
        "id": "q8vjzJh8ztze"
      }
    },
    {
      "cell_type": "code",
      "source": [
        "# It computes the output using only \"handcrafted\" basic level operations!\n",
        "def f(a, b):\n",
        "    # (a^2 + 1)^2 x b^2 = (a^2 x b + b)^2\n",
        "    c = mul(a, a)\n",
        "    d = mul(c, b)\n",
        "    e = add(d, b)\n",
        "    output = mul(e, e)\n",
        "    return output\n",
        "\n",
        "\n",
        "# handcrafted basic level operations\n",
        "# addition\n",
        "def add(a, b):\n",
        "    # fill in the blank --------------------------------------\n",
        "    output = a+b\n",
        "    # --------------------------------------------------------\n",
        "\n",
        "    def backward(grad_output=1):\n",
        "        # fill in the blank --------------------------------------\n",
        "        grad_input_a = np.ones_like(a)*grad_output\n",
        "        grad_input_b = np.ones_like(b)*grad_output\n",
        "        a.backward_fn(grad_input_a)\n",
        "        b.backward_fn(grad_input_b)        \n",
        "        # --------------------------------------------------------\n",
        "\n",
        "    output.backward_fn = backward\n",
        "    return output\n",
        "\n",
        "\n",
        "# multiplication\n",
        "def mul(a, b):\n",
        "    # fill in the blank --------------------------------------\n",
        "    output = a*b\n",
        "    # --------------------------------------------------------\n",
        "\n",
        "    def backward(grad_output=1):\n",
        "        # fill in the blank --------------------------------------\n",
        "        grad_input_a = b*grad_output\n",
        "        grad_input_b = a*grad_output\n",
        "        a.backward_fn(grad_input_a)\n",
        "        b.backward_fn(grad_input_b)\n",
        "        # --------------------------------------------------------\n",
        "\n",
        "    output.backward_fn = backward\n",
        "    return output"
      ],
      "metadata": {
        "id": "ODFmQqCQzwPK"
      },
      "execution_count": 25,
      "outputs": []
    },
    {
      "cell_type": "code",
      "source": [
        "# define 'a' and 'b' with 'required_grad = True' to track the computational graph. In this case, the backward_fn is for keeping/accumulating the gradient.\n",
        "a = Tensor(2, requires_grad=True)\n",
        "b = Tensor(3, requires_grad=True)\n",
        "\n",
        "out = f(a, b)\n",
        "out.backward()\n",
        "\n",
        "# check the output and gradient\n",
        "out, a.grad, b.grad"
      ],
      "metadata": {
        "id": "kNyS3_nKz4vn",
        "colab": {
          "base_uri": "https://localhost:8080/"
        },
        "outputId": "1c4e2bd6-bac5-4065-eabe-6ec66dba2528"
      },
      "execution_count": 10,
      "outputs": [
        {
          "output_type": "execute_result",
          "data": {
            "text/plain": [
              "(Tensor(225), Tensor(360), Tensor(150))"
            ]
          },
          "metadata": {},
          "execution_count": 10
        }
      ]
    },
    {
      "cell_type": "markdown",
      "source": [
        "backward() is called once more -> the gradients are accumulated"
      ],
      "metadata": {
        "id": "wxMn_jXUz6n_"
      }
    },
    {
      "cell_type": "code",
      "source": [
        "out.backward()\n",
        "out, a.grad, b.grad"
      ],
      "metadata": {
        "id": "Ua8VGNU4z7xj",
        "colab": {
          "base_uri": "https://localhost:8080/"
        },
        "outputId": "c498dc0f-c71a-49bc-d3b1-d2f666b12876"
      },
      "execution_count": 11,
      "outputs": [
        {
          "output_type": "execute_result",
          "data": {
            "text/plain": [
              "(Tensor(225), Tensor(720), Tensor(300))"
            ]
          },
          "metadata": {},
          "execution_count": 11
        }
      ]
    },
    {
      "cell_type": "markdown",
      "source": [
        "If the .requires_grad is False, the gradient will not be saved in corresponding variable,"
      ],
      "metadata": {
        "id": "OUkRanzoz9kB"
      }
    },
    {
      "cell_type": "code",
      "source": [
        "a = Tensor(2, requires_grad=True)\n",
        "b = Tensor(3)\n",
        "\n",
        "out = f(a, b)\n",
        "out.backward()\n",
        "\n",
        "out, a.grad, b.grad"
      ],
      "metadata": {
        "id": "Jrz_-3B0z-zx",
        "colab": {
          "base_uri": "https://localhost:8080/"
        },
        "outputId": "21f670e5-49d0-4f52-fc89-892c1f99126b"
      },
      "execution_count": 12,
      "outputs": [
        {
          "output_type": "execute_result",
          "data": {
            "text/plain": [
              "(Tensor(225), Tensor(360), None)"
            ]
          },
          "metadata": {},
          "execution_count": 12
        }
      ]
    },
    {
      "cell_type": "markdown",
      "source": [
        "## **TODO3** : Consider and implement the following function $f(x, y)$. Get the gradient of $f$ with respect to $x, y$ when $(x, y) = (1, 2)$. If there is any operation you want to use, feel free to define it just like how we defined `add()` and `mul()` functions above.\n",
        "\n",
        "$$f(x, y) = \\sin(x)(x+y)(x^3 + 1)$$\n",
        "\n",
        "\n",
        "**Hint:** Use `np.sin, np.cos` methods when computing `sin()`."
      ],
      "metadata": {
        "id": "_iEpB6u20nk7"
      }
    },
    {
      "cell_type": "code",
      "source": [
        "def g(x, y):\n",
        "    # fill in the blank --------------------------------------\n",
        "    a = np.sin(x)\n",
        "    b = add(x, y)\n",
        "    c = mul(x, x)\n",
        "    d = mul(x, c)\n",
        "    e = add(d, 1)\n",
        "    f = mul(a, b)\n",
        "    output = mul(f, e)\n",
        "\n",
        "    def backward():\n",
        "        grad_input_x = np.cos(x) * (x + y) * (x**3 + 1) + np.sin(x) * (x**3 + 1) + 3 * (x**2) * (x + y) * np.sin(x)\n",
        "        grad_input_y = np.sin(x) * (x**3 + 1)\n",
        "        x.backward_fn(grad_input_x)\n",
        "        y.backward_fn(grad_input_y)\n",
        "\n",
        "    output.backward_fn = backward\n",
        "    return output\n"
      ],
      "metadata": {
        "id": "-8YAEU-ZqeOp"
      },
      "execution_count": 34,
      "outputs": []
    },
    {
      "cell_type": "code",
      "source": [
        "# define 'x' and 'y' with 'required_grad = True' to track the computational graph.\n",
        "x = Tensor(1, requires_grad=True)\n",
        "y = Tensor(2, requires_grad=True)\n",
        "\n",
        "out = g(x, y)\n",
        "out.backward()\n",
        "\n",
        "# check the output and gradient\n",
        "out, x.grad, y.grad"
      ],
      "metadata": {
        "id": "4wYNdhEBL7Ca",
        "colab": {
          "base_uri": "https://localhost:8080/"
        },
        "outputId": "95c8bdff-1e3f-4c76-c76c-f465717e4f27"
      },
      "execution_count": 35,
      "outputs": [
        {
          "output_type": "execute_result",
          "data": {
            "text/plain": [
              "(Tensor(5.04882591), Tensor(12.49799467), Tensor(1.68294197))"
            ]
          },
          "metadata": {},
          "execution_count": 35
        }
      ]
    },
    {
      "cell_type": "markdown",
      "source": [
        "#### **Implementing 'torch-like Module' to be inherited to customed modules**\n",
        "It contains several useful methods and implemented compactly, trying to make it along the same line with `nn.Module` in pytorch. (except for the ```update``` method). See https://pytorch.org/docs/stable/generated/torch.nn.Module.html for details of each method usage.\n",
        "\n",
        "Since all the effective SGD variants other than naive one is out of scope in this assignment, we will not investigate on 'torch-like optimizer'. Instead, we will make the 'Module' class absorb this update procedure in ```update``` method. Learning rate (```lr```) must be specified in every iteration as a method's argument.\n"
      ],
      "metadata": {
        "id": "FmMbJxCMNmGN"
      }
    },
    {
      "cell_type": "markdown",
      "source": [
        "\n",
        "### **Task 2. Implment ```zero_grad()``` and ```update()``` methods**\n",
        "\n",
        "**hint:** use ```parameters()``` method.\n",
        "\n",
        "## **TODO1** : Fill in the blanks of the codes for **Task 2** and write your own description of the source code in your report. \n",
        "\n",
        "## **TODO2** : Attach the results in your report."
      ],
      "metadata": {
        "id": "d8btxaA3No8I"
      }
    },
    {
      "cell_type": "code",
      "source": [
        "class Module:\n",
        "    def __init__(self):\n",
        "        self.training = True\n",
        "        self._parameters = dict()\n",
        "        self._modules = dict()\n",
        "\n",
        "    def __setattr__(self, name, value):\n",
        "        super(Module, self).__setattr__(name, value)\n",
        "        if isinstance(value, Tensor) and value.requires_grad:\n",
        "            self._parameters[name] = value\n",
        "        elif isinstance(value, Module):\n",
        "            self._modules[name] = value\n",
        "\n",
        "    def modules(self):\n",
        "        yield self\n",
        "        for name, module in self._modules.items():\n",
        "            if module is None:\n",
        "                continue\n",
        "            for m in module.modules():\n",
        "                yield m\n",
        "        \n",
        "    def parameters(self):\n",
        "        modules = self.modules()\n",
        "        for module in modules:\n",
        "            members = module._parameters.items()\n",
        "            for k, v in members:\n",
        "                yield v\n",
        "\n",
        "    def zero_grad(self):\n",
        "        # fill in the blank --------------------------------------\n",
        "        prmt = self.parameters()\n",
        "        for k in prmt:\n",
        "          if isinstance(k.grad, Tensor):\n",
        "            k.grad.fill(0)\n",
        "          else:\n",
        "            k.grad = np.zeros_like(k)\n",
        "        # --------------------------------------------------------\n",
        "\n",
        "    def update(self, lr):\n",
        "        # fill in the blank --------------------------------------\n",
        "        prmt = self.parameters()\n",
        "        for k in prmt:\n",
        "          k -= lr * (k.grad)\n",
        "        # --------------------------------------------------------\n",
        "\n",
        "    def train(self):\n",
        "        for module in self.modules():\n",
        "            module.training = True\n",
        "\n",
        "    def eval(self):\n",
        "        for module in self.modules():\n",
        "            module.training = False\n",
        "\n",
        "    def forward(self, *args):\n",
        "        raise NotImplementedError\n",
        "\n",
        "    def __call__(self, *args):\n",
        "        return self.forward(*args)"
      ],
      "metadata": {
        "id": "_IL2oUxCNtbh"
      },
      "execution_count": 13,
      "outputs": []
    },
    {
      "cell_type": "markdown",
      "source": [
        "**Usage**\n",
        "\n",
        "You can subclass it when you implement the customed modules(e.g. relu, fc layer) as well as the full model which will be defined in the similar way with torch's Module."
      ],
      "metadata": {
        "id": "1XNZOkepN6Nj"
      }
    },
    {
      "cell_type": "code",
      "source": [
        "class TestModel(Module):\n",
        "    def __init__(self, init_param):\n",
        "        super(TestModel, self).__init__()\n",
        "        self.some_param = Tensor(init_param, requires_grad=True)\n",
        "    \n",
        "    def forward(self, x):\n",
        "        return f(self.some_param, x)  ## f is defined above in Part1-Task1\n",
        "    \n",
        "test_model = TestModel(12.)\n",
        "out = test_model(Tensor(0.3))\n",
        "out.backward()\n",
        "\n",
        "print('gradient of some_param before zero_grad : ', test_model.some_param.grad)\n",
        "print('some_param before update : ', test_model.some_param)\n",
        "test_model.update(lr=0.01)\n",
        "print('some_param after update : ', test_model.some_param)\n",
        "test_model.zero_grad()\n",
        "print('gradient of some_param after zero_grad : ', test_model.some_param.grad)"
      ],
      "metadata": {
        "id": "f6yczZfxN8rJ",
        "colab": {
          "base_uri": "https://localhost:8080/"
        },
        "outputId": "5c698329-83f3-4fce-a14f-9c780a1c2778"
      },
      "execution_count": 14,
      "outputs": [
        {
          "output_type": "stream",
          "name": "stdout",
          "text": [
            "gradient of some_param before zero_grad :  626.4\n",
            "some_param before update :  12.0\n",
            "some_param after update :  5.736\n",
            "gradient of some_param after zero_grad :  0.0\n"
          ]
        }
      ]
    },
    {
      "cell_type": "markdown",
      "source": [
        "#### **Recap Deep Neural Network (DNN) Training**\n",
        "\n",
        "Let's recap deep neural network which was already covered in practice session meterial. In this sub-part, you will implement DNN model by using the above `Tensor, Model, Autograd mechanism`. You can fill in the blank based on the week 6 practice session meterial if you think you need. At first, some key modules (e.g. full-connected layer, ReLU activation) will be implemented and wrapping(using) them with a whole model which also must inherit the `Module` class. And then train with MNIST and CIFAR10 dataset to check the result.\n",
        "\n"
      ],
      "metadata": {
        "id": "Ff1SO08XOZal"
      }
    },
    {
      "cell_type": "markdown",
      "source": [
        "#### **1. Training on MNIST Dataset**\n",
        "#### **Load MNIST Dataset**"
      ],
      "metadata": {
        "id": "ieIosWa_ObFL"
      }
    },
    {
      "cell_type": "code",
      "source": [
        "#Download MNIST Dataset\n",
        "\n",
        "if not os.path.exists('mnist'):\n",
        "    os.mkdir('mnist')\n",
        "# try:\n",
        "mnist_url = \"https://ossci-datasets.s3.amazonaws.com/mnist/\"\n",
        "files = [\"train-images-idx3-ubyte.gz\",\"t10k-images-idx3-ubyte.gz\",\"train-labels-idx1-ubyte.gz\",\"t10k-labels-idx1-ubyte.gz\"]\n",
        "for file in files: \n",
        "    if not os.path.isfile('mnist/'+file):\n",
        "        request.urlretrieve(mnist_url+file, 'mnist/'+file)\n",
        "\n",
        "#Prepare MNIST Dataset\n",
        "with gzip.open('mnist/train-images-idx3-ubyte.gz', 'r') as f:\n",
        "    magic_number = int.from_bytes(f.read(4), 'big')\n",
        "    num_images_training = int.from_bytes(f.read(4), 'big')\n",
        "    row_count = int.from_bytes(f.read(4), 'big')\n",
        "    column_count = int.from_bytes(f.read(4), 'big')\n",
        "    train_images_data = f.read()\n",
        "    train_images = np.frombuffer(train_images_data, dtype=np.uint8).reshape(num_images_training, row_count, column_count)\n",
        "\n",
        "with gzip.open('mnist/train-labels-idx1-ubyte.gz', 'r') as f:\n",
        "    magic_number = int.from_bytes(f.read(4), 'big')\n",
        "    label_count = int.from_bytes(f.read(4), 'big')\n",
        "    train_labels_data = f.read()\n",
        "    train_labels = np.frombuffer(train_labels_data, dtype=np.uint8)\n",
        "\n",
        "with gzip.open('mnist/t10k-images-idx3-ubyte.gz', 'r') as f:\n",
        "    magic_number = int.from_bytes(f.read(4), 'big')\n",
        "    num_images_test = int.from_bytes(f.read(4), 'big')\n",
        "    row_count = int.from_bytes(f.read(4), 'big')\n",
        "    column_count = int.from_bytes(f.read(4), 'big')\n",
        "    test_images_data = f.read()\n",
        "    test_images = np.frombuffer(test_images_data, dtype=np.uint8).reshape(num_images_test, row_count, column_count)\n",
        "\n",
        "with gzip.open('mnist/t10k-labels-idx1-ubyte.gz', 'r') as f:\n",
        "    magic_number = int.from_bytes(f.read(4), 'big')\n",
        "    label_count = int.from_bytes(f.read(4), 'big')\n",
        "    test_labels_data = f.read()\n",
        "    test_labels = np.frombuffer(test_labels_data, dtype=np.uint8) \n",
        "\n",
        "train_images = Tensor(train_images / 255.)\n",
        "test_images = Tensor(test_images / 255.)\n",
        "train_labels = Tensor(train_labels)\n",
        "test_labels = Tensor(test_labels)\n",
        "\n",
        "print(\"Training Images Shape:\" , train_images.shape)\n",
        "print(\"Training Labels Shape:\" ,train_labels.shape)\n",
        "print(\"Test Images Shape:\" ,test_images.shape)\n",
        "print(\"Test Labels Shape:\" ,test_labels.shape)"
      ],
      "metadata": {
        "id": "uKPqWOupOcbf",
        "colab": {
          "base_uri": "https://localhost:8080/"
        },
        "outputId": "7af9f294-5d3e-4c31-d3dd-22da87dd0e35"
      },
      "execution_count": 15,
      "outputs": [
        {
          "output_type": "stream",
          "name": "stdout",
          "text": [
            "Training Images Shape: (60000, 28, 28)\n",
            "Training Labels Shape: (60000,)\n",
            "Test Images Shape: (10000, 28, 28)\n",
            "Test Labels Shape: (10000,)\n"
          ]
        }
      ]
    },
    {
      "cell_type": "markdown",
      "source": [
        "The following model is desired to be trained on MNIST dataset at the end of this sub-part, and as you can see the below cell, you need to implement the following modules:\n",
        "\n",
        "`Linear`, `ReLU`\n",
        "\n",
        "The usage of these modules are exactly the same with that of pytorch."
      ],
      "metadata": {
        "id": "HUekZ02SOeT0"
      }
    },
    {
      "cell_type": "code",
      "source": [
        "class Model(Module):\n",
        "    def __init__(self):\n",
        "        super(Model, self).__init__()\n",
        "        self.fc1 = Linear(784, 320)\n",
        "        self.fc2 = Linear(320, 120)\n",
        "        self.fc3 = Linear(120, 10)\n",
        "        self.relu = ReLU()\n",
        "\n",
        "    def forward(self, x):\n",
        "        x = x.reshape(x.shape[0], -1)\n",
        "        x = self.relu(self.fc1(x))\n",
        "        x = self.relu(self.fc2(x))\n",
        "        x = self.fc3(x)\n",
        "        return x"
      ],
      "metadata": {
        "id": "2Qkf-k6JOfgm"
      },
      "execution_count": 16,
      "outputs": []
    },
    {
      "cell_type": "markdown",
      "source": [
        "### **Task 3. Implement the ReLU, Linear modules(with backward)**\n",
        "\n",
        "### **Task 4. Implement CrossEntropyLoss(with backward) to define appropriate criterion before training**\n"
      ],
      "metadata": {
        "id": "YGGKNRYuOhLq"
      }
    },
    {
      "cell_type": "markdown",
      "source": [
        "\n",
        "## **TODO1** : Fill in the blanks of the codes for **Task 3, 4** and write your own description of the source code in your report. \n",
        "\n",
        "## **TODO2** : Attach the results in your report.\n",
        "\n",
        "**Note: It is not necessary to break down the operations within each module into more basic operations (backward operations can be defined together in a single backward closure).**"
      ],
      "metadata": {
        "id": "gpMaJfcLOnVg"
      }
    },
    {
      "cell_type": "code",
      "source": [
        "class ReLU(Module):\n",
        "    def __init__(self):\n",
        "        super(ReLU, self).__init__()\n",
        "\n",
        "    def forward(self, x):\n",
        "        return relu_function(x)\n",
        "\n",
        "\n",
        "def relu_function(input):\n",
        "    # fill in the blank --------------------------------------\n",
        "    output = np.maximum(0, input)\n",
        "    # --------------------------------------------------------\n",
        "    def backward(grad_output):\n",
        "        # fill in the blank --------------------------------------\n",
        "        grad_input_input = grad_output * ((np.sign(input) + 1) / 2)\n",
        "        input.backward_fn(grad_input_input)\n",
        "        # --------------------------------------------------------\n",
        "    output.backward_fn = backward\n",
        "    return output"
      ],
      "metadata": {
        "id": "kFocYE4WOooh"
      },
      "execution_count": 18,
      "outputs": []
    },
    {
      "cell_type": "code",
      "source": [
        "class Linear(Module):\n",
        "    def __init__(self, in_features, out_features):\n",
        "        super(Linear, self).__init__()\n",
        "        self.in_features = in_features\n",
        "        self.out_features = out_features\n",
        "        self.init_parameters()\n",
        "\n",
        "    def init_parameters(self):\n",
        "        W = np.random.randn(self.in_features, self.out_features) * math.sqrt(2 / (6 * self.in_features))\n",
        "        bound = 1 / math.sqrt(self.in_features)\n",
        "        b = np.random.uniform(-bound, bound, size=(self.out_features))\n",
        "        self.W = Tensor(W, requires_grad=True)\n",
        "        self.b = Tensor(b, requires_grad=True)\n",
        "\n",
        "    def forward(self, x):\n",
        "        return wx_plus_b(self.W, self.b, x)\n",
        "\n",
        "\n",
        "def wx_plus_b(W, b, input):\n",
        "    # fill in the blank --------------------------------------\n",
        "    output = np.matmul(input, W) + b\n",
        "    # --------------------------------------------------------\n",
        "    def backward(grad_output):\n",
        "        # fill in the blank --------------------------------------\n",
        "        grad_input_W = np.matmul(input.T, grad_output)\n",
        "        grad_input_b = np.matmul(np.ones(len(input)), grad_output)\n",
        "        grad_input_input = np.matmul(grad_output, W.T)\n",
        "        W.backward_fn(grad_input_W)\n",
        "        b.backward_fn(grad_input_b)\n",
        "        input.backward_fn(grad_input_input)\n",
        "        # --------------------------------------------------------\n",
        "\n",
        "    output.backward_fn = backward\n",
        "    return output"
      ],
      "metadata": {
        "id": "uBQObwdKOqr-"
      },
      "execution_count": 17,
      "outputs": []
    },
    {
      "cell_type": "markdown",
      "source": [
        "**Implement CrossEntropyLoss which combines `LogSoftmax` and `NLL Loss` as pytorch's one does.**\n",
        "\n",
        "(see https://pytorch.org/docs/stable/generated/torch.nn.CrossEntropyLoss.html)"
      ],
      "metadata": {
        "id": "JEADFXhSOtwa"
      }
    },
    {
      "cell_type": "code",
      "source": [
        "class CrossEntropyLoss:\n",
        "    def __call__(self, input, target):\n",
        "        return compute_cross_entropy_loss(input, target)\n",
        "\n",
        "\n",
        "def compute_cross_entropy_loss(input, target):\n",
        "    # fill in the blank --------------------------------------\n",
        "    output = 0\n",
        "    length = len(input)\n",
        "    for i in range(length):\n",
        "      tgt = target[i]\n",
        "      ipt = input[i]\n",
        "      output += (np.log(np.sum(np.exp(ipt))) - ipt[tgt])\n",
        "    output = Tensor((output/length), requires_grad = True)\n",
        "  \n",
        "    # --------------------------------------------------------\n",
        "    def backward():\n",
        "        # fill in the blank --------------------------------------\n",
        "        \n",
        "        grad_input_input = np.exp(input)\n",
        "        summ = np.sum(grad_input_input, axis = 1)\n",
        "        for i in range(len(grad_input_input)):\n",
        "          grad_input_input[i] /= summ[i]\n",
        "          grad_input_input[i][target[i]] -= 1\n",
        "        grad_input_input /= len(input)\n",
        "        input.backward_fn(grad_input_input)\n",
        "\n",
        "        # --------------------------------------------------------\n",
        "\n",
        "    output.backward_fn = backward\n",
        "    return output"
      ],
      "metadata": {
        "id": "fnw6zGGzOvLu"
      },
      "execution_count": 19,
      "outputs": []
    },
    {
      "cell_type": "markdown",
      "source": [
        "#### **Training and Evaluation**"
      ],
      "metadata": {
        "id": "CfC9CseXOzuf"
      }
    },
    {
      "cell_type": "code",
      "source": [
        "np.random.seed(2023)\n",
        "random.seed(2023)\n",
        "\n",
        "model = Model()\n",
        "criterion = CrossEntropyLoss()\n",
        "\n",
        "epoch = 20\n",
        "batch_size = 100\n",
        "assert len(train_images) % batch_size == 0\n",
        "lr = 0.1\n",
        "for i in tqdm(range(epoch)):\n",
        "    indices = np.arange(len(train_images))\n",
        "    np.random.shuffle(indices)\n",
        "    train_images_shuffle = train_images[indices]\n",
        "    train_labels_shuffle = train_labels[indices]\n",
        "    running_loss = 0.0\n",
        "    for num_batch in range(len(train_images) // batch_size):\n",
        "        imgs = train_images_shuffle[num_batch * batch_size:(num_batch + 1) * batch_size]\n",
        "        target = train_labels_shuffle[num_batch * batch_size:(num_batch + 1) * batch_size]\n",
        "        output = model(imgs)\n",
        "        loss = criterion(output, target)\n",
        "        model.zero_grad()\n",
        "        loss.backward()\n",
        "        model.update(lr)\n",
        "        running_loss += loss      \n",
        "    print('Loss = {}'.format(running_loss/(num_batch + 1)))\n",
        "print('Training Finished')"
      ],
      "metadata": {
        "id": "wDeG0b30O1SM",
        "colab": {
          "base_uri": "https://localhost:8080/"
        },
        "outputId": "abf7567c-1a54-404b-bb81-4fbb28614442"
      },
      "execution_count": 20,
      "outputs": [
        {
          "output_type": "stream",
          "name": "stderr",
          "text": [
            "  5%|▌         | 1/20 [00:11<03:45, 11.89s/it]"
          ]
        },
        {
          "output_type": "stream",
          "name": "stdout",
          "text": [
            "Loss = 0.5976743977352439\n"
          ]
        },
        {
          "output_type": "stream",
          "name": "stderr",
          "text": [
            "\r 10%|█         | 2/20 [00:22<03:22, 11.27s/it]"
          ]
        },
        {
          "output_type": "stream",
          "name": "stdout",
          "text": [
            "Loss = 0.23216241042671143\n"
          ]
        },
        {
          "output_type": "stream",
          "name": "stderr",
          "text": [
            "\r 15%|█▌        | 3/20 [00:33<03:08, 11.11s/it]"
          ]
        },
        {
          "output_type": "stream",
          "name": "stdout",
          "text": [
            "Loss = 0.16636484746362962\n"
          ]
        },
        {
          "output_type": "stream",
          "name": "stderr",
          "text": [
            "\r 20%|██        | 4/20 [00:44<02:57, 11.08s/it]"
          ]
        },
        {
          "output_type": "stream",
          "name": "stdout",
          "text": [
            "Loss = 0.1268566726499497\n"
          ]
        },
        {
          "output_type": "stream",
          "name": "stderr",
          "text": [
            "\r 25%|██▌       | 5/20 [00:54<02:38, 10.56s/it]"
          ]
        },
        {
          "output_type": "stream",
          "name": "stdout",
          "text": [
            "Loss = 0.10148149223319261\n"
          ]
        },
        {
          "output_type": "stream",
          "name": "stderr",
          "text": [
            "\r 30%|███       | 6/20 [01:05<02:31, 10.82s/it]"
          ]
        },
        {
          "output_type": "stream",
          "name": "stdout",
          "text": [
            "Loss = 0.083579199833649\n"
          ]
        },
        {
          "output_type": "stream",
          "name": "stderr",
          "text": [
            "\r 35%|███▌      | 7/20 [01:16<02:21, 10.85s/it]"
          ]
        },
        {
          "output_type": "stream",
          "name": "stdout",
          "text": [
            "Loss = 0.06984142115224735\n"
          ]
        },
        {
          "output_type": "stream",
          "name": "stderr",
          "text": [
            "\r 40%|████      | 8/20 [01:27<02:10, 10.85s/it]"
          ]
        },
        {
          "output_type": "stream",
          "name": "stdout",
          "text": [
            "Loss = 0.05945913935479037\n"
          ]
        },
        {
          "output_type": "stream",
          "name": "stderr",
          "text": [
            "\r 45%|████▌     | 9/20 [01:38<01:59, 10.87s/it]"
          ]
        },
        {
          "output_type": "stream",
          "name": "stdout",
          "text": [
            "Loss = 0.05101464342146573\n"
          ]
        },
        {
          "output_type": "stream",
          "name": "stderr",
          "text": [
            "\r 50%|█████     | 10/20 [01:49<01:48, 10.88s/it]"
          ]
        },
        {
          "output_type": "stream",
          "name": "stdout",
          "text": [
            "Loss = 0.043736275121405654\n"
          ]
        },
        {
          "output_type": "stream",
          "name": "stderr",
          "text": [
            "\r 55%|█████▌    | 11/20 [01:58<01:33, 10.43s/it]"
          ]
        },
        {
          "output_type": "stream",
          "name": "stdout",
          "text": [
            "Loss = 0.03853626425128526\n"
          ]
        },
        {
          "output_type": "stream",
          "name": "stderr",
          "text": [
            "\r 60%|██████    | 12/20 [02:09<01:24, 10.56s/it]"
          ]
        },
        {
          "output_type": "stream",
          "name": "stdout",
          "text": [
            "Loss = 0.03293278904273675\n"
          ]
        },
        {
          "output_type": "stream",
          "name": "stderr",
          "text": [
            "\r 65%|██████▌   | 13/20 [02:20<01:14, 10.64s/it]"
          ]
        },
        {
          "output_type": "stream",
          "name": "stdout",
          "text": [
            "Loss = 0.02836972512710277\n"
          ]
        },
        {
          "output_type": "stream",
          "name": "stderr",
          "text": [
            "\r 70%|███████   | 14/20 [02:31<01:04, 10.68s/it]"
          ]
        },
        {
          "output_type": "stream",
          "name": "stdout",
          "text": [
            "Loss = 0.02437575441870696\n"
          ]
        },
        {
          "output_type": "stream",
          "name": "stderr",
          "text": [
            "\r 75%|███████▌  | 15/20 [02:42<00:53, 10.79s/it]"
          ]
        },
        {
          "output_type": "stream",
          "name": "stdout",
          "text": [
            "Loss = 0.02112507069193561\n"
          ]
        },
        {
          "output_type": "stream",
          "name": "stderr",
          "text": [
            "\r 80%|████████  | 16/20 [02:51<00:41, 10.37s/it]"
          ]
        },
        {
          "output_type": "stream",
          "name": "stdout",
          "text": [
            "Loss = 0.018087014489237628\n"
          ]
        },
        {
          "output_type": "stream",
          "name": "stderr",
          "text": [
            "\r 85%|████████▌ | 17/20 [03:02<00:31, 10.46s/it]"
          ]
        },
        {
          "output_type": "stream",
          "name": "stdout",
          "text": [
            "Loss = 0.015290462560477147\n"
          ]
        },
        {
          "output_type": "stream",
          "name": "stderr",
          "text": [
            "\r 90%|█████████ | 18/20 [03:13<00:21, 10.59s/it]"
          ]
        },
        {
          "output_type": "stream",
          "name": "stdout",
          "text": [
            "Loss = 0.013133806469908119\n"
          ]
        },
        {
          "output_type": "stream",
          "name": "stderr",
          "text": [
            "\r 95%|█████████▌| 19/20 [03:23<00:10, 10.65s/it]"
          ]
        },
        {
          "output_type": "stream",
          "name": "stdout",
          "text": [
            "Loss = 0.01143620774238661\n"
          ]
        },
        {
          "output_type": "stream",
          "name": "stderr",
          "text": [
            "100%|██████████| 20/20 [03:34<00:00, 10.75s/it]"
          ]
        },
        {
          "output_type": "stream",
          "name": "stdout",
          "text": [
            "Loss = 0.009546901877568377\n",
            "Training Finished\n"
          ]
        },
        {
          "output_type": "stream",
          "name": "stderr",
          "text": [
            "\n"
          ]
        }
      ]
    },
    {
      "cell_type": "code",
      "source": [
        "prediction = model(test_images)\n",
        "prediction_label = np.argmax(prediction, axis=1)\n",
        "test_acc = np.sum((prediction_label == test_labels))/len(test_labels)\n",
        "print('Test Accuracy = {:.2f}'.format(100*test_acc))"
      ],
      "metadata": {
        "id": "kP_HimzUO5P7",
        "colab": {
          "base_uri": "https://localhost:8080/"
        },
        "outputId": "ef987391-1bf9-496b-c092-b928459de8a7"
      },
      "execution_count": null,
      "outputs": [
        {
          "output_type": "stream",
          "name": "stdout",
          "text": [
            "Test Accuracy = 97.95\n"
          ]
        }
      ]
    },
    {
      "cell_type": "markdown",
      "source": [
        "#### **2. Training on CIFAR-10 Dataset**\n",
        "#### **Load CIFAR-10 Dataset**\n",
        "\n",
        "We will extract only 4 classes out of 10 to be classified and train model on these classes."
      ],
      "metadata": {
        "id": "FrJrBq886lYE"
      }
    },
    {
      "cell_type": "code",
      "source": [
        "#Download CIFAR10 Dataset\n",
        "from urllib import request\n",
        "import pickle\n",
        "\n",
        "request.urlretrieve('https://www.cs.toronto.edu/~kriz/cifar-10-python.tar.gz', 'cifar-10-python.tar.gz')\n",
        "!tar -xzf cifar-10-python.tar.gz\n",
        "\n",
        "for i in range(1,6):\n",
        "    filename='data_batch_%d'%i\n",
        "    with open('cifar-10-batches-py/'+filename, 'rb') as fo:\n",
        "        dict_data = pickle.load(fo, encoding='bytes')\n",
        "  \n",
        "    images_batch = dict_data[b'data']\n",
        "    labels_batch = dict_data[b'labels']\n",
        "    if i==1:\n",
        "        train_images = images_batch\n",
        "        train_labels = labels_batch\n",
        "    else:\n",
        "        train_images = np.concatenate((train_images, images_batch), axis=0)\n",
        "        train_labels.extend(labels_batch)\n",
        "        \n",
        "with open('cifar-10-batches-py/test_batch', 'rb') as fo:\n",
        "    dict_data = pickle.load(fo, encoding='bytes')\n",
        "\n",
        "test_images = dict_data[b'data']\n",
        "test_labels = dict_data[b'labels']\n",
        "\n",
        "train_indexes = sorted(range(len(train_labels)), key=lambda k: train_labels[k])\n",
        "test_indexes = sorted(range(len(test_labels)), key=lambda k: test_labels[k])\n",
        "\n",
        "def cifar10_subset(class_ind=[0,1]):\n",
        "    assert (len(class_ind) >=2 and len(class_ind) <=10)\n",
        "    assert (min(class_ind) >=0 and max(class_ind) <=9)\n",
        "    train_images_cl = []\n",
        "    train_labels_cl = []\n",
        "    test_images_cl = []\n",
        "    test_labels_cl = []\n",
        "    for i in class_ind:\n",
        "        train_inds = train_indexes[i*5000:(i+1)*5000]\n",
        "        test_inds = test_indexes[i*1000:(i+1)*1000]\n",
        "        train_images_tmp = train_images[train_inds,:]\n",
        "        train_labels_tmp = np.array(train_labels)[train_inds]\n",
        "        test_images_tmp = test_images[test_inds,:]\n",
        "        test_labels_tmp = np.array(test_labels)[test_inds]\n",
        "\n",
        "        train_images_cl.append(train_images_tmp)\n",
        "        train_labels_cl.append(train_labels_tmp)\n",
        "        test_images_cl.append(test_images_tmp)\n",
        "        test_labels_cl.append(test_labels_tmp)\n",
        "  \n",
        "    return np.concatenate(train_images_cl), np.array(train_labels_cl), np.concatenate(test_images_cl), np.array(test_labels_cl)\n",
        "\n",
        "X_train, Y_train, X_test, Y_test = cifar10_subset([0, 1, 2, 3])  # four classes\n",
        "\n",
        "train_images = Tensor(X_train / 255.)\n",
        "test_images = Tensor(X_test / 255.)\n",
        "train_labels = Tensor(Y_train.reshape(-1))\n",
        "test_labels = Tensor(Y_test.reshape(-1))\n",
        "\n",
        "print(\"Training Images Shape:\" , train_images.shape)\n",
        "print(\"Training Labels Shape:\" ,train_labels.shape)\n",
        "print(\"Test Images Shape:\" ,test_images.shape)\n",
        "print(\"Test Labels Shape:\" ,test_labels.shape)"
      ],
      "metadata": {
        "id": "0cmwdjUS6lLw",
        "colab": {
          "base_uri": "https://localhost:8080/"
        },
        "outputId": "d7f8be9b-d6be-408c-b061-4c87dc225fda"
      },
      "execution_count": 21,
      "outputs": [
        {
          "output_type": "stream",
          "name": "stdout",
          "text": [
            "Training Images Shape: (20000, 3072)\n",
            "Training Labels Shape: (20000,)\n",
            "Test Images Shape: (4000, 3072)\n",
            "Test Labels Shape: (4000,)\n"
          ]
        }
      ]
    },
    {
      "cell_type": "markdown",
      "source": [
        "#### **Define the model which will be trained on CIFAR-10**"
      ],
      "metadata": {
        "id": "t7cN4Ytz6p6C"
      }
    },
    {
      "cell_type": "code",
      "source": [
        "class Model(Module):\n",
        "    def __init__(self):\n",
        "        super(Model, self).__init__()\n",
        "        self.fc1 = Linear(3072, 640)\n",
        "        self.fc2 = Linear(640, 320)\n",
        "        self.fc3 = Linear(320, 64)\n",
        "        self.fc4 = Linear(64, 4)\n",
        "        self.relu = ReLU()\n",
        "\n",
        "    def forward(self, x):\n",
        "        x = self.relu(self.fc1(x))\n",
        "        x = self.relu(self.fc2(x))\n",
        "        x = self.relu(self.fc3(x))\n",
        "        x = self.fc4(x)\n",
        "        return x"
      ],
      "metadata": {
        "id": "gstX7swf6rkX"
      },
      "execution_count": null,
      "outputs": []
    },
    {
      "cell_type": "markdown",
      "source": [
        "#### **Training and Evaluation**"
      ],
      "metadata": {
        "id": "2I0rSpwi6tNd"
      }
    },
    {
      "cell_type": "code",
      "source": [
        "np.random.seed(2023)\n",
        "random.seed(2023)\n",
        "\n",
        "model = Model()\n",
        "criterion = CrossEntropyLoss()\n",
        "\n",
        "epoch = 30\n",
        "batch_size = 100\n",
        "assert len(train_images) % batch_size == 0\n",
        "lr = 0.1\n",
        "for i in tqdm(range(epoch)):\n",
        "    indices = np.arange(len(train_images))\n",
        "    np.random.shuffle(indices)\n",
        "    train_images_shuffle = train_images[indices]\n",
        "    train_labels_shuffle = train_labels[indices]\n",
        "    running_loss = 0.0\n",
        "    for num_batch in range(len(train_images) // batch_size):\n",
        "        imgs = train_images_shuffle[num_batch * batch_size:(num_batch + 1) * batch_size]\n",
        "        target = train_labels_shuffle[num_batch * batch_size:(num_batch + 1) * batch_size]\n",
        "        output = model(imgs)\n",
        "        loss = criterion(output, target)\n",
        "        model.zero_grad()\n",
        "        loss.backward()\n",
        "        model.update(lr)\n",
        "        running_loss += loss      \n",
        "    print('Loss = {}'.format(running_loss/(num_batch + 1)))\n",
        "print('Training Finished')"
      ],
      "metadata": {
        "id": "dYulQ3qa6uOP",
        "colab": {
          "base_uri": "https://localhost:8080/",
          "height": 424
        },
        "outputId": "8f8284a1-dcad-4128-8194-744a07f36970"
      },
      "execution_count": 22,
      "outputs": [
        {
          "output_type": "stream",
          "name": "stderr",
          "text": [
            "  0%|          | 0/30 [00:00<?, ?it/s]\n"
          ]
        },
        {
          "output_type": "error",
          "ename": "ValueError",
          "evalue": "ignored",
          "traceback": [
            "\u001b[0;31m---------------------------------------------------------------------------\u001b[0m",
            "\u001b[0;31mValueError\u001b[0m                                Traceback (most recent call last)",
            "\u001b[0;32m<ipython-input-22-de94e74e0ba8>\u001b[0m in \u001b[0;36m<cell line: 11>\u001b[0;34m()\u001b[0m\n\u001b[1;32m     18\u001b[0m         \u001b[0mimgs\u001b[0m \u001b[0;34m=\u001b[0m \u001b[0mtrain_images_shuffle\u001b[0m\u001b[0;34m[\u001b[0m\u001b[0mnum_batch\u001b[0m \u001b[0;34m*\u001b[0m \u001b[0mbatch_size\u001b[0m\u001b[0;34m:\u001b[0m\u001b[0;34m(\u001b[0m\u001b[0mnum_batch\u001b[0m \u001b[0;34m+\u001b[0m \u001b[0;36m1\u001b[0m\u001b[0;34m)\u001b[0m \u001b[0;34m*\u001b[0m \u001b[0mbatch_size\u001b[0m\u001b[0;34m]\u001b[0m\u001b[0;34m\u001b[0m\u001b[0;34m\u001b[0m\u001b[0m\n\u001b[1;32m     19\u001b[0m         \u001b[0mtarget\u001b[0m \u001b[0;34m=\u001b[0m \u001b[0mtrain_labels_shuffle\u001b[0m\u001b[0;34m[\u001b[0m\u001b[0mnum_batch\u001b[0m \u001b[0;34m*\u001b[0m \u001b[0mbatch_size\u001b[0m\u001b[0;34m:\u001b[0m\u001b[0;34m(\u001b[0m\u001b[0mnum_batch\u001b[0m \u001b[0;34m+\u001b[0m \u001b[0;36m1\u001b[0m\u001b[0;34m)\u001b[0m \u001b[0;34m*\u001b[0m \u001b[0mbatch_size\u001b[0m\u001b[0;34m]\u001b[0m\u001b[0;34m\u001b[0m\u001b[0;34m\u001b[0m\u001b[0m\n\u001b[0;32m---> 20\u001b[0;31m         \u001b[0moutput\u001b[0m \u001b[0;34m=\u001b[0m \u001b[0mmodel\u001b[0m\u001b[0;34m(\u001b[0m\u001b[0mimgs\u001b[0m\u001b[0;34m)\u001b[0m\u001b[0;34m\u001b[0m\u001b[0;34m\u001b[0m\u001b[0m\n\u001b[0m\u001b[1;32m     21\u001b[0m         \u001b[0mloss\u001b[0m \u001b[0;34m=\u001b[0m \u001b[0mcriterion\u001b[0m\u001b[0;34m(\u001b[0m\u001b[0moutput\u001b[0m\u001b[0;34m,\u001b[0m \u001b[0mtarget\u001b[0m\u001b[0;34m)\u001b[0m\u001b[0;34m\u001b[0m\u001b[0;34m\u001b[0m\u001b[0m\n\u001b[1;32m     22\u001b[0m         \u001b[0mmodel\u001b[0m\u001b[0;34m.\u001b[0m\u001b[0mzero_grad\u001b[0m\u001b[0;34m(\u001b[0m\u001b[0;34m)\u001b[0m\u001b[0;34m\u001b[0m\u001b[0;34m\u001b[0m\u001b[0m\n",
            "\u001b[0;32m<ipython-input-13-8bb415d7b9f4>\u001b[0m in \u001b[0;36m__call__\u001b[0;34m(self, *args)\u001b[0m\n\u001b[1;32m     56\u001b[0m \u001b[0;34m\u001b[0m\u001b[0m\n\u001b[1;32m     57\u001b[0m     \u001b[0;32mdef\u001b[0m \u001b[0m__call__\u001b[0m\u001b[0;34m(\u001b[0m\u001b[0mself\u001b[0m\u001b[0;34m,\u001b[0m \u001b[0;34m*\u001b[0m\u001b[0margs\u001b[0m\u001b[0;34m)\u001b[0m\u001b[0;34m:\u001b[0m\u001b[0;34m\u001b[0m\u001b[0;34m\u001b[0m\u001b[0m\n\u001b[0;32m---> 58\u001b[0;31m         \u001b[0;32mreturn\u001b[0m \u001b[0mself\u001b[0m\u001b[0;34m.\u001b[0m\u001b[0mforward\u001b[0m\u001b[0;34m(\u001b[0m\u001b[0;34m*\u001b[0m\u001b[0margs\u001b[0m\u001b[0;34m)\u001b[0m\u001b[0;34m\u001b[0m\u001b[0;34m\u001b[0m\u001b[0m\n\u001b[0m",
            "\u001b[0;32m<ipython-input-16-35fe98c0aa34>\u001b[0m in \u001b[0;36mforward\u001b[0;34m(self, x)\u001b[0m\n\u001b[1;32m      9\u001b[0m     \u001b[0;32mdef\u001b[0m \u001b[0mforward\u001b[0m\u001b[0;34m(\u001b[0m\u001b[0mself\u001b[0m\u001b[0;34m,\u001b[0m \u001b[0mx\u001b[0m\u001b[0;34m)\u001b[0m\u001b[0;34m:\u001b[0m\u001b[0;34m\u001b[0m\u001b[0;34m\u001b[0m\u001b[0m\n\u001b[1;32m     10\u001b[0m         \u001b[0mx\u001b[0m \u001b[0;34m=\u001b[0m \u001b[0mx\u001b[0m\u001b[0;34m.\u001b[0m\u001b[0mreshape\u001b[0m\u001b[0;34m(\u001b[0m\u001b[0mx\u001b[0m\u001b[0;34m.\u001b[0m\u001b[0mshape\u001b[0m\u001b[0;34m[\u001b[0m\u001b[0;36m0\u001b[0m\u001b[0;34m]\u001b[0m\u001b[0;34m,\u001b[0m \u001b[0;34m-\u001b[0m\u001b[0;36m1\u001b[0m\u001b[0;34m)\u001b[0m\u001b[0;34m\u001b[0m\u001b[0;34m\u001b[0m\u001b[0m\n\u001b[0;32m---> 11\u001b[0;31m         \u001b[0mx\u001b[0m \u001b[0;34m=\u001b[0m \u001b[0mself\u001b[0m\u001b[0;34m.\u001b[0m\u001b[0mrelu\u001b[0m\u001b[0;34m(\u001b[0m\u001b[0mself\u001b[0m\u001b[0;34m.\u001b[0m\u001b[0mfc1\u001b[0m\u001b[0;34m(\u001b[0m\u001b[0mx\u001b[0m\u001b[0;34m)\u001b[0m\u001b[0;34m)\u001b[0m\u001b[0;34m\u001b[0m\u001b[0;34m\u001b[0m\u001b[0m\n\u001b[0m\u001b[1;32m     12\u001b[0m         \u001b[0mx\u001b[0m \u001b[0;34m=\u001b[0m \u001b[0mself\u001b[0m\u001b[0;34m.\u001b[0m\u001b[0mrelu\u001b[0m\u001b[0;34m(\u001b[0m\u001b[0mself\u001b[0m\u001b[0;34m.\u001b[0m\u001b[0mfc2\u001b[0m\u001b[0;34m(\u001b[0m\u001b[0mx\u001b[0m\u001b[0;34m)\u001b[0m\u001b[0;34m)\u001b[0m\u001b[0;34m\u001b[0m\u001b[0;34m\u001b[0m\u001b[0m\n\u001b[1;32m     13\u001b[0m         \u001b[0mx\u001b[0m \u001b[0;34m=\u001b[0m \u001b[0mself\u001b[0m\u001b[0;34m.\u001b[0m\u001b[0mfc3\u001b[0m\u001b[0;34m(\u001b[0m\u001b[0mx\u001b[0m\u001b[0;34m)\u001b[0m\u001b[0;34m\u001b[0m\u001b[0;34m\u001b[0m\u001b[0m\n",
            "\u001b[0;32m<ipython-input-13-8bb415d7b9f4>\u001b[0m in \u001b[0;36m__call__\u001b[0;34m(self, *args)\u001b[0m\n\u001b[1;32m     56\u001b[0m \u001b[0;34m\u001b[0m\u001b[0m\n\u001b[1;32m     57\u001b[0m     \u001b[0;32mdef\u001b[0m \u001b[0m__call__\u001b[0m\u001b[0;34m(\u001b[0m\u001b[0mself\u001b[0m\u001b[0;34m,\u001b[0m \u001b[0;34m*\u001b[0m\u001b[0margs\u001b[0m\u001b[0;34m)\u001b[0m\u001b[0;34m:\u001b[0m\u001b[0;34m\u001b[0m\u001b[0;34m\u001b[0m\u001b[0m\n\u001b[0;32m---> 58\u001b[0;31m         \u001b[0;32mreturn\u001b[0m \u001b[0mself\u001b[0m\u001b[0;34m.\u001b[0m\u001b[0mforward\u001b[0m\u001b[0;34m(\u001b[0m\u001b[0;34m*\u001b[0m\u001b[0margs\u001b[0m\u001b[0;34m)\u001b[0m\u001b[0;34m\u001b[0m\u001b[0;34m\u001b[0m\u001b[0m\n\u001b[0m",
            "\u001b[0;32m<ipython-input-17-ef2375c9ed04>\u001b[0m in \u001b[0;36mforward\u001b[0;34m(self, x)\u001b[0m\n\u001b[1;32m     14\u001b[0m \u001b[0;34m\u001b[0m\u001b[0m\n\u001b[1;32m     15\u001b[0m     \u001b[0;32mdef\u001b[0m \u001b[0mforward\u001b[0m\u001b[0;34m(\u001b[0m\u001b[0mself\u001b[0m\u001b[0;34m,\u001b[0m \u001b[0mx\u001b[0m\u001b[0;34m)\u001b[0m\u001b[0;34m:\u001b[0m\u001b[0;34m\u001b[0m\u001b[0;34m\u001b[0m\u001b[0m\n\u001b[0;32m---> 16\u001b[0;31m         \u001b[0;32mreturn\u001b[0m \u001b[0mwx_plus_b\u001b[0m\u001b[0;34m(\u001b[0m\u001b[0mself\u001b[0m\u001b[0;34m.\u001b[0m\u001b[0mW\u001b[0m\u001b[0;34m,\u001b[0m \u001b[0mself\u001b[0m\u001b[0;34m.\u001b[0m\u001b[0mb\u001b[0m\u001b[0;34m,\u001b[0m \u001b[0mx\u001b[0m\u001b[0;34m)\u001b[0m\u001b[0;34m\u001b[0m\u001b[0;34m\u001b[0m\u001b[0m\n\u001b[0m\u001b[1;32m     17\u001b[0m \u001b[0;34m\u001b[0m\u001b[0m\n\u001b[1;32m     18\u001b[0m \u001b[0;34m\u001b[0m\u001b[0m\n",
            "\u001b[0;32m<ipython-input-17-ef2375c9ed04>\u001b[0m in \u001b[0;36mwx_plus_b\u001b[0;34m(W, b, input)\u001b[0m\n\u001b[1;32m     19\u001b[0m \u001b[0;32mdef\u001b[0m \u001b[0mwx_plus_b\u001b[0m\u001b[0;34m(\u001b[0m\u001b[0mW\u001b[0m\u001b[0;34m,\u001b[0m \u001b[0mb\u001b[0m\u001b[0;34m,\u001b[0m \u001b[0minput\u001b[0m\u001b[0;34m)\u001b[0m\u001b[0;34m:\u001b[0m\u001b[0;34m\u001b[0m\u001b[0;34m\u001b[0m\u001b[0m\n\u001b[1;32m     20\u001b[0m     \u001b[0;31m# fill in the blank --------------------------------------\u001b[0m\u001b[0;34m\u001b[0m\u001b[0;34m\u001b[0m\u001b[0m\n\u001b[0;32m---> 21\u001b[0;31m     \u001b[0moutput\u001b[0m \u001b[0;34m=\u001b[0m \u001b[0mnp\u001b[0m\u001b[0;34m.\u001b[0m\u001b[0mmatmul\u001b[0m\u001b[0;34m(\u001b[0m\u001b[0minput\u001b[0m\u001b[0;34m,\u001b[0m \u001b[0mW\u001b[0m\u001b[0;34m)\u001b[0m \u001b[0;34m+\u001b[0m \u001b[0mb\u001b[0m\u001b[0;34m\u001b[0m\u001b[0;34m\u001b[0m\u001b[0m\n\u001b[0m\u001b[1;32m     22\u001b[0m     \u001b[0;31m# --------------------------------------------------------\u001b[0m\u001b[0;34m\u001b[0m\u001b[0;34m\u001b[0m\u001b[0m\n\u001b[1;32m     23\u001b[0m     \u001b[0;32mdef\u001b[0m \u001b[0mbackward\u001b[0m\u001b[0;34m(\u001b[0m\u001b[0mgrad_output\u001b[0m\u001b[0;34m)\u001b[0m\u001b[0;34m:\u001b[0m\u001b[0;34m\u001b[0m\u001b[0;34m\u001b[0m\u001b[0m\n",
            "\u001b[0;31mValueError\u001b[0m: matmul: Input operand 1 has a mismatch in its core dimension 0, with gufunc signature (n?,k),(k,m?)->(n?,m?) (size 784 is different from 3072)"
          ]
        }
      ]
    },
    {
      "cell_type": "code",
      "source": [
        "prediction = model(test_images)\n",
        "prediction_label = np.argmax(prediction, axis=1)\n",
        "test_acc = np.sum((prediction_label == test_labels))/len(test_labels)\n",
        "print('Test Accuracy = {:.2f}'.format(100*test_acc))"
      ],
      "metadata": {
        "id": "aQG7OiQC6wWP",
        "colab": {
          "base_uri": "https://localhost:8080/"
        },
        "outputId": "e678bc9f-8980-468a-e727-c2393b7fdb9d"
      },
      "execution_count": null,
      "outputs": [
        {
          "output_type": "stream",
          "name": "stdout",
          "text": [
            "Test Accuracy = 72.97\n"
          ]
        }
      ]
    },
    {
      "cell_type": "code",
      "source": [],
      "metadata": {
        "id": "H5FPR5lUMBqD"
      },
      "execution_count": null,
      "outputs": []
    }
  ]
}